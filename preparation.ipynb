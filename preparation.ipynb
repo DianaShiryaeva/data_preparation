{
 "cells": [
  {
   "cell_type": "markdown",
   "metadata": {},
   "source": [
    "План:\n",
    "1. Что такое управление данными и предобработка. Почему это важно?\n",
    "2. Место предобработки данных в общем процеесе\n",
    "3. С какими видами данных работают ML и DL модели\n",
    "4. Стадии предобработки данных и часто используемые инструменты\n",
    "5. Примеры обработки различных типов данных\n",
    "    - Числовые\n",
    "    - Текстовые\n",
    "    - Изображения\n",
    "    - Звук\n",
    "    - Временные ряды"
   ]
  },
  {
   "cell_type": "markdown",
   "metadata": {},
   "source": [
    "# Управление данными и предобработка. Подготовка данных для ML.\n",
    "\n",
    "Автор: Ширяева Диана, 6013"
   ]
  },
  {
   "cell_type": "markdown",
   "metadata": {},
   "source": [
    "## Что такое управление данными и предобработка. Почему это важно?\n",
    "\n",
    "<span style=\"color:#CC0099\">**Управление данными**</span> – это процесс сбора, хранения, обработки, анализа и использования данных.\n",
    "\n",
    "- **Сбор данных**: Определение источников, извлечение данных, обработка ошибок сбора данных, создание единого формата.\n",
    "- **Хранение данных**: Выбор подходящей системы хранения (базы данных, облачные хранилища), обеспечение безопасности данных.\n",
    "- **Предобработка данных**: Преобразование данных, агрегирование, фильтрация, создание новых признаков.\n",
    "- **Анализ данных**: Использование статистических методов и визуализации для получения insights (ценности).\n",
    "- **Использование данных**: Применение данных для принятия решений, разработки моделей машинного обучения и т.д.\n",
    "\n",
    "<span style=\"color:#CC0099\">**Предобработка данных**</span> – это этап, который подготавливает данные к обучению модели машинного обучения. Он включает в себя:\n",
    "- Очистку данных: Удаление шума, выбросов, пропущенных значений, дубликатов.\n",
    "- Преобразование данных: Масштабирование, кодирование категориальных признаков, приведение данных к нужному формату.\n",
    "- Инженерия признаков: Создание новых признаков из существующих, отбор наиболее релевантных признаков.\n",
    "\n",
    "<span style=\"color:#CC0099\">**Почему это важно?**</span>\n",
    "\n",
    "Качество данных влияет на:\n",
    "1. Качество модели\n",
    "2. Эффективность модели\n",
    "3. Обобщающую способность модели\n",
    "\n",
    "Также предобработка данных дает ещё один важный бонус - это <span style=\"color:#FFCC00\">**понимание данных**</span>"
   ]
  },
  {
   "cell_type": "markdown",
   "metadata": {},
   "source": [
    "## Место предобработки данных в общем процеесе\n",
    "\n",
    "<pre>\n",
    "┌───────────────────┐\n",
    "│ Сбор данных       │\n",
    "└───────────────────┘\n",
    "          ↓\n",
    "┌───────────────────┐\n",
    "│ Предобработка     │\n",
    "└───────────────────┘\n",
    "          ↓\n",
    "┌───────────────────┐\n",
    "│ Построение модели │\n",
    "└───────────────────┘\n",
    "          ↓\n",
    "┌───────────────────┐\n",
    "│ Обучение медели   │\n",
    "└───────────────────┘\n",
    "          ↓\n",
    "┌───────────────────┐\n",
    "│ Предсказание      │\n",
    "└───────────────────┘\n",
    "          ↓\n",
    "┌───────────────────┐\n",
    "│ Анализ качества   │\n",
    "└───────────────────┘\n",
    "          ↓\n",
    "┌───────────────────┐\n",
    "│ Интерпретация     │\n",
    "└───────────────────┘\n",
    "</pre>"
   ]
  },
  {
   "cell_type": "markdown",
   "metadata": {},
   "source": [
    "## С какими видами данных работают ML и DL модели\n",
    "\n",
    "Желания человека: \n",
    "- Числовые\n",
    "- Текстовые\n",
    "- Изображения\n",
    "- Аудио\n",
    "- Временные ряды\n",
    "\n",
    "Но сами модели работают с <span style=\"color:#FFCC00\">количественными типами данных</span>, поэтому все качественные (категориальные) типы данных необходимо привести к формату, который понятен компьютеру."
   ]
  },
  {
   "cell_type": "markdown",
   "metadata": {},
   "source": [
    "## Стадии предобработки данных и часто используемые инструменты\n",
    "\n",
    "1. Очистка данных:\n",
    "    - Обработка пропущенных значений: Удаление, замена (средним, медианой, моделью), заполнение нулями.\n",
    "    - Удаление дубликатов: Определение и удаление дублирующихся записей.\n",
    "    - Обработка выбросов: Идентификация и коррекция аномальных значений.\n",
    "2. Преобразование данных:\n",
    "    - Масштабирование: Нормализация данных (приведение к диапазону 0-1) или стандартизация (приведение к нулевому среднему и единичному стандартному отклонению).\n",
    "    - Кодирование категориальных признаков: Преобразование категориальных данных в числовые (например, с помощью one-hot encoding, label encoding).\n",
    "    - Разбиение данных: Разделение на обучающую, проверочную и тестовую выборки.\n",
    "3. Инженерия признаков:\n",
    "    - Создание новых признаков: Извлечение информации из существующих признаков\n",
    "    - Выбор признаков: Отбор наиболее релевантных признаков для модели.\n",
    "    - Трансформация признаков: Приведение признаков к более удобному формату для модели (например, логарифмирование, применение полиномов).\n",
    "4. Проверка качества данных:\n",
    "    - Визуализация данных: Построение графиков для анализа распределения данных, наличия выбросов, зависимостей.\n",
    "    - Статистический анализ: Вычисление основных статистических характеристик (среднее, дисперсия, корреляция), проверка гипотез.\n",
    "\n",
    "<span style=\"color:#CC0099\">Инструменты</span>:\n",
    "- Python: Pandas, NumPy, Scikit-learn, Matplotlib, Seaborn\n",
    "- R: dplyr, tidyr, ggplot2\n",
    "- SQL"
   ]
  },
  {
   "cell_type": "markdown",
   "metadata": {},
   "source": []
  },
  {
   "cell_type": "markdown",
   "metadata": {},
   "source": [
    "### Очистка числовых данных"
   ]
  },
  {
   "cell_type": "code",
   "execution_count": 92,
   "metadata": {},
   "outputs": [],
   "source": [
    "import numpy as np\n",
    "import pandas as pd\n",
    "import seaborn as sns\n",
    "\n",
    "import matplotlib.pyplot as plt\n",
    "import matplotlib.mlab as mlab\n",
    "import matplotlib\n",
    "plt.style.use('ggplot')\n",
    "from matplotlib.pyplot import figure"
   ]
  },
  {
   "cell_type": "markdown",
   "metadata": {},
   "source": [
    "Датасет fetch_california_housing содержит информацию о жилье в Калифорнии\n",
    "\n",
    "1. MedInc (Median Income) - Медианный доход населения в районе (в десятитысячах долларов). \n",
    "2. HouseAge (House Age) - Средний возраст домов в районе.\n",
    "3. AveRooms (Average Number of Rooms) - Среднее количество комнат в доме в районе.\n",
    "4. AveBedrms (Average Number of Bedrooms) - Среднее количество спален в доме в районе.\n",
    "5. Population (Population) - Общая численность населения в районе.\n",
    "6. AveOccup (Average Occupancy) - Средняя плотность населения в районе (количество людей на один дом).\n",
    "7. Latitude (Latitude) - Широта района.\n",
    "8. Longitude (Longitude) - Долгота района.\n",
    "9. MedHouseVal (Median House Value) - Медианная стоимость жилья в районе (в десятитысячах долларов). (является target)"
   ]
  },
  {
   "cell_type": "code",
   "execution_count": 93,
   "metadata": {},
   "outputs": [
    {
     "data": {
      "text/html": [
       "<div>\n",
       "<style scoped>\n",
       "    .dataframe tbody tr th:only-of-type {\n",
       "        vertical-align: middle;\n",
       "    }\n",
       "\n",
       "    .dataframe tbody tr th {\n",
       "        vertical-align: top;\n",
       "    }\n",
       "\n",
       "    .dataframe thead th {\n",
       "        text-align: right;\n",
       "    }\n",
       "</style>\n",
       "<table border=\"1\" class=\"dataframe\">\n",
       "  <thead>\n",
       "    <tr style=\"text-align: right;\">\n",
       "      <th></th>\n",
       "      <th>MedInc</th>\n",
       "      <th>HouseAge</th>\n",
       "      <th>AveRooms</th>\n",
       "      <th>AveBedrms</th>\n",
       "      <th>Population</th>\n",
       "      <th>AveOccup</th>\n",
       "      <th>Latitude</th>\n",
       "      <th>Longitude</th>\n",
       "      <th>MedHouseVal</th>\n",
       "    </tr>\n",
       "  </thead>\n",
       "  <tbody>\n",
       "    <tr>\n",
       "      <th>0</th>\n",
       "      <td>8.3252</td>\n",
       "      <td>41.0</td>\n",
       "      <td>6.984127</td>\n",
       "      <td>1.023810</td>\n",
       "      <td>322.0</td>\n",
       "      <td>2.555556</td>\n",
       "      <td>37.88</td>\n",
       "      <td>-122.23</td>\n",
       "      <td>4.526</td>\n",
       "    </tr>\n",
       "    <tr>\n",
       "      <th>1</th>\n",
       "      <td>8.3014</td>\n",
       "      <td>21.0</td>\n",
       "      <td>6.238137</td>\n",
       "      <td>0.971880</td>\n",
       "      <td>2401.0</td>\n",
       "      <td>2.109842</td>\n",
       "      <td>37.86</td>\n",
       "      <td>-122.22</td>\n",
       "      <td>3.585</td>\n",
       "    </tr>\n",
       "    <tr>\n",
       "      <th>2</th>\n",
       "      <td>7.2574</td>\n",
       "      <td>52.0</td>\n",
       "      <td>8.288136</td>\n",
       "      <td>1.073446</td>\n",
       "      <td>496.0</td>\n",
       "      <td>2.802260</td>\n",
       "      <td>37.85</td>\n",
       "      <td>-122.24</td>\n",
       "      <td>3.521</td>\n",
       "    </tr>\n",
       "    <tr>\n",
       "      <th>3</th>\n",
       "      <td>5.6431</td>\n",
       "      <td>52.0</td>\n",
       "      <td>5.817352</td>\n",
       "      <td>1.073059</td>\n",
       "      <td>558.0</td>\n",
       "      <td>2.547945</td>\n",
       "      <td>37.85</td>\n",
       "      <td>-122.25</td>\n",
       "      <td>3.413</td>\n",
       "    </tr>\n",
       "    <tr>\n",
       "      <th>4</th>\n",
       "      <td>3.8462</td>\n",
       "      <td>52.0</td>\n",
       "      <td>6.281853</td>\n",
       "      <td>1.081081</td>\n",
       "      <td>565.0</td>\n",
       "      <td>2.181467</td>\n",
       "      <td>37.85</td>\n",
       "      <td>-122.25</td>\n",
       "      <td>3.422</td>\n",
       "    </tr>\n",
       "    <tr>\n",
       "      <th>...</th>\n",
       "      <td>...</td>\n",
       "      <td>...</td>\n",
       "      <td>...</td>\n",
       "      <td>...</td>\n",
       "      <td>...</td>\n",
       "      <td>...</td>\n",
       "      <td>...</td>\n",
       "      <td>...</td>\n",
       "      <td>...</td>\n",
       "    </tr>\n",
       "    <tr>\n",
       "      <th>20636</th>\n",
       "      <td>2.5568</td>\n",
       "      <td>18.0</td>\n",
       "      <td>6.114035</td>\n",
       "      <td>1.315789</td>\n",
       "      <td>356.0</td>\n",
       "      <td>3.122807</td>\n",
       "      <td>39.49</td>\n",
       "      <td>-121.21</td>\n",
       "      <td>0.771</td>\n",
       "    </tr>\n",
       "    <tr>\n",
       "      <th>20637</th>\n",
       "      <td>1.7000</td>\n",
       "      <td>17.0</td>\n",
       "      <td>5.205543</td>\n",
       "      <td>1.120092</td>\n",
       "      <td>1007.0</td>\n",
       "      <td>2.325635</td>\n",
       "      <td>39.43</td>\n",
       "      <td>-121.22</td>\n",
       "      <td>0.923</td>\n",
       "    </tr>\n",
       "    <tr>\n",
       "      <th>20638</th>\n",
       "      <td>1.8672</td>\n",
       "      <td>18.0</td>\n",
       "      <td>5.329513</td>\n",
       "      <td>1.171920</td>\n",
       "      <td>741.0</td>\n",
       "      <td>2.123209</td>\n",
       "      <td>39.43</td>\n",
       "      <td>-121.32</td>\n",
       "      <td>0.847</td>\n",
       "    </tr>\n",
       "    <tr>\n",
       "      <th>20639</th>\n",
       "      <td>2.3886</td>\n",
       "      <td>16.0</td>\n",
       "      <td>5.254717</td>\n",
       "      <td>1.162264</td>\n",
       "      <td>1387.0</td>\n",
       "      <td>2.616981</td>\n",
       "      <td>39.37</td>\n",
       "      <td>-121.24</td>\n",
       "      <td>0.894</td>\n",
       "    </tr>\n",
       "    <tr>\n",
       "      <th>20640</th>\n",
       "      <td>2.3886</td>\n",
       "      <td>16.0</td>\n",
       "      <td>5.254717</td>\n",
       "      <td>1.162264</td>\n",
       "      <td>1387.0</td>\n",
       "      <td>2.616981</td>\n",
       "      <td>39.37</td>\n",
       "      <td>-121.24</td>\n",
       "      <td>0.894</td>\n",
       "    </tr>\n",
       "  </tbody>\n",
       "</table>\n",
       "<p>20641 rows × 9 columns</p>\n",
       "</div>"
      ],
      "text/plain": [
       "       MedInc  HouseAge  AveRooms  AveBedrms  Population  AveOccup  Latitude  \\\n",
       "0      8.3252      41.0  6.984127   1.023810       322.0  2.555556     37.88   \n",
       "1      8.3014      21.0  6.238137   0.971880      2401.0  2.109842     37.86   \n",
       "2      7.2574      52.0  8.288136   1.073446       496.0  2.802260     37.85   \n",
       "3      5.6431      52.0  5.817352   1.073059       558.0  2.547945     37.85   \n",
       "4      3.8462      52.0  6.281853   1.081081       565.0  2.181467     37.85   \n",
       "...       ...       ...       ...        ...         ...       ...       ...   \n",
       "20636  2.5568      18.0  6.114035   1.315789       356.0  3.122807     39.49   \n",
       "20637  1.7000      17.0  5.205543   1.120092      1007.0  2.325635     39.43   \n",
       "20638  1.8672      18.0  5.329513   1.171920       741.0  2.123209     39.43   \n",
       "20639  2.3886      16.0  5.254717   1.162264      1387.0  2.616981     39.37   \n",
       "20640  2.3886      16.0  5.254717   1.162264      1387.0  2.616981     39.37   \n",
       "\n",
       "       Longitude  MedHouseVal  \n",
       "0        -122.23        4.526  \n",
       "1        -122.22        3.585  \n",
       "2        -122.24        3.521  \n",
       "3        -122.25        3.413  \n",
       "4        -122.25        3.422  \n",
       "...          ...          ...  \n",
       "20636    -121.21        0.771  \n",
       "20637    -121.22        0.923  \n",
       "20638    -121.32        0.847  \n",
       "20639    -121.24        0.894  \n",
       "20640    -121.24        0.894  \n",
       "\n",
       "[20641 rows x 9 columns]"
      ]
     },
     "execution_count": 93,
     "metadata": {},
     "output_type": "execute_result"
    }
   ],
   "source": [
    "df = pd.read_csv(\"fetch_california_housing.csv\")\n",
    "del df[\"Unnamed: 0\"]\n",
    "df"
   ]
  },
  {
   "cell_type": "code",
   "execution_count": 94,
   "metadata": {},
   "outputs": [
    {
     "name": "stdout",
     "output_type": "stream",
     "text": [
      "(20641, 9)\n",
      "MedInc         float64\n",
      "HouseAge       float64\n",
      "AveRooms       float64\n",
      "AveBedrms      float64\n",
      "Population     float64\n",
      "AveOccup       float64\n",
      "Latitude       float64\n",
      "Longitude      float64\n",
      "MedHouseVal    float64\n",
      "dtype: object\n"
     ]
    }
   ],
   "source": [
    "# shape и types данных\n",
    "print(df.shape)\n",
    "print(df.dtypes)"
   ]
  },
  {
   "cell_type": "code",
   "execution_count": 95,
   "metadata": {},
   "outputs": [
    {
     "name": "stdout",
     "output_type": "stream",
     "text": [
      "['MedInc' 'HouseAge' 'AveRooms' 'AveBedrms' 'Population' 'AveOccup'\n",
      " 'Latitude' 'Longitude' 'MedHouseVal']\n",
      "[]\n"
     ]
    }
   ],
   "source": [
    "# отбор числовых колонок, если датасет содержит не только числовые столбцы\n",
    "df_numeric = df.select_dtypes(include=[np.number])\n",
    "numeric_cols = df_numeric.columns.values\n",
    "print(numeric_cols)\n",
    "\n",
    "# отбор нечисловых колонок\n",
    "df_non_numeric = df.select_dtypes(exclude=[np.number])\n",
    "non_numeric_cols = df_non_numeric.columns.values\n",
    "print(non_numeric_cols)"
   ]
  },
  {
   "cell_type": "markdown",
   "metadata": {},
   "source": [
    "#### Поиск пропущенных значений и способы умтранения"
   ]
  },
  {
   "cell_type": "code",
   "execution_count": 96,
   "metadata": {},
   "outputs": [
    {
     "data": {
      "text/plain": [
       "<Axes: >"
      ]
     },
     "execution_count": 96,
     "metadata": {},
     "output_type": "execute_result"
    },
    {
     "data": {
      "image/png": "[encoded data removed]",
      "text/plain": [
       "<Figure size 640x480 with 2 Axes>"
      ]
     },
     "metadata": {},
     "output_type": "display_data"
    }
   ],
   "source": [
    "# тепловая карта пропущенных значений\n",
    "cols = df.columns\n",
    "colours = ['#000099', '#ffff00'] # желтый - пропущенные данные, синий - не пропущенные\n",
    "sns.heatmap(df[cols][:100].isnull(), cmap=sns.color_palette(colours))"
   ]
  },
  {
   "cell_type": "code",
   "execution_count": 97,
   "metadata": {},
   "outputs": [
    {
     "name": "stdout",
     "output_type": "stream",
     "text": [
      "MedInc - 0.0%\n",
      "HouseAge - 0.004844726515188218%\n",
      "AveRooms - 0.009689453030376436%\n",
      "AveBedrms - 0.019378906060752873%\n",
      "Population - 0.009689453030376436%\n",
      "AveOccup - 0.009689453030376436%\n",
      "Latitude - 0.009689453030376436%\n",
      "Longitude - 0.0%\n",
      "MedHouseVal - 0.004844726515188218%\n"
     ]
    }
   ],
   "source": [
    "# Процентный список пропущенных данных\n",
    "def get_percentage_skips(df):\n",
    "    for col in df.columns:\n",
    "        pct_missing = np.mean(df[col].isnull())\n",
    "        print('{} - {}%'.format(col, pct_missing*100))\n",
    "\n",
    "get_percentage_skips(df)"
   ]
  },
  {
   "cell_type": "code",
   "execution_count": 98,
   "metadata": {},
   "outputs": [
    {
     "name": "stdout",
     "output_type": "stream",
     "text": [
      "MedInc - 0.0%\n",
      "HouseAge - 0.0%\n",
      "AveRooms - 0.0%\n",
      "AveBedrms - 0.0%\n",
      "Population - 0.0%\n",
      "AveOccup - 0.0%\n",
      "Latitude - 0.0%\n",
      "Longitude - 0.0%\n",
      "MedHouseVal - 0.0%\n"
     ]
    }
   ],
   "source": [
    "# методы борьбы с пропущенными значениями\n",
    "# Отбрасывание записей - ! Это решение подходит только в том случае, если недостающие данные не являются информативными !\n",
    "df_cleaned = df.dropna()\n",
    "get_percentage_skips(df_cleaned)"
   ]
  },
  {
   "cell_type": "code",
   "execution_count": 99,
   "metadata": {},
   "outputs": [
    {
     "data": {
      "text/html": [
       "<div>\n",
       "<style scoped>\n",
       "    .dataframe tbody tr th:only-of-type {\n",
       "        vertical-align: middle;\n",
       "    }\n",
       "\n",
       "    .dataframe tbody tr th {\n",
       "        vertical-align: top;\n",
       "    }\n",
       "\n",
       "    .dataframe thead th {\n",
       "        text-align: right;\n",
       "    }\n",
       "</style>\n",
       "<table border=\"1\" class=\"dataframe\">\n",
       "  <thead>\n",
       "    <tr style=\"text-align: right;\">\n",
       "      <th></th>\n",
       "      <th>MedInc</th>\n",
       "      <th>HouseAge</th>\n",
       "      <th>AveRooms</th>\n",
       "      <th>AveBedrms</th>\n",
       "      <th>Population</th>\n",
       "      <th>AveOccup</th>\n",
       "      <th>Latitude</th>\n",
       "      <th>Longitude</th>\n",
       "    </tr>\n",
       "  </thead>\n",
       "  <tbody>\n",
       "    <tr>\n",
       "      <th>0</th>\n",
       "      <td>8.3252</td>\n",
       "      <td>41.0</td>\n",
       "      <td>6.984127</td>\n",
       "      <td>1.023810</td>\n",
       "      <td>322.0</td>\n",
       "      <td>2.555556</td>\n",
       "      <td>37.88</td>\n",
       "      <td>-122.23</td>\n",
       "    </tr>\n",
       "    <tr>\n",
       "      <th>1</th>\n",
       "      <td>8.3014</td>\n",
       "      <td>21.0</td>\n",
       "      <td>6.238137</td>\n",
       "      <td>0.971880</td>\n",
       "      <td>2401.0</td>\n",
       "      <td>2.109842</td>\n",
       "      <td>37.86</td>\n",
       "      <td>-122.22</td>\n",
       "    </tr>\n",
       "    <tr>\n",
       "      <th>2</th>\n",
       "      <td>7.2574</td>\n",
       "      <td>52.0</td>\n",
       "      <td>8.288136</td>\n",
       "      <td>1.073446</td>\n",
       "      <td>496.0</td>\n",
       "      <td>2.802260</td>\n",
       "      <td>37.85</td>\n",
       "      <td>-122.24</td>\n",
       "    </tr>\n",
       "    <tr>\n",
       "      <th>3</th>\n",
       "      <td>5.6431</td>\n",
       "      <td>52.0</td>\n",
       "      <td>5.817352</td>\n",
       "      <td>1.073059</td>\n",
       "      <td>558.0</td>\n",
       "      <td>2.547945</td>\n",
       "      <td>37.85</td>\n",
       "      <td>-122.25</td>\n",
       "    </tr>\n",
       "    <tr>\n",
       "      <th>4</th>\n",
       "      <td>3.8462</td>\n",
       "      <td>52.0</td>\n",
       "      <td>6.281853</td>\n",
       "      <td>1.081081</td>\n",
       "      <td>565.0</td>\n",
       "      <td>2.181467</td>\n",
       "      <td>37.85</td>\n",
       "      <td>-122.25</td>\n",
       "    </tr>\n",
       "    <tr>\n",
       "      <th>...</th>\n",
       "      <td>...</td>\n",
       "      <td>...</td>\n",
       "      <td>...</td>\n",
       "      <td>...</td>\n",
       "      <td>...</td>\n",
       "      <td>...</td>\n",
       "      <td>...</td>\n",
       "      <td>...</td>\n",
       "    </tr>\n",
       "    <tr>\n",
       "      <th>20636</th>\n",
       "      <td>2.5568</td>\n",
       "      <td>18.0</td>\n",
       "      <td>6.114035</td>\n",
       "      <td>1.315789</td>\n",
       "      <td>356.0</td>\n",
       "      <td>3.122807</td>\n",
       "      <td>39.49</td>\n",
       "      <td>-121.21</td>\n",
       "    </tr>\n",
       "    <tr>\n",
       "      <th>20637</th>\n",
       "      <td>1.7000</td>\n",
       "      <td>17.0</td>\n",
       "      <td>5.205543</td>\n",
       "      <td>1.120092</td>\n",
       "      <td>1007.0</td>\n",
       "      <td>2.325635</td>\n",
       "      <td>39.43</td>\n",
       "      <td>-121.22</td>\n",
       "    </tr>\n",
       "    <tr>\n",
       "      <th>20638</th>\n",
       "      <td>1.8672</td>\n",
       "      <td>18.0</td>\n",
       "      <td>5.329513</td>\n",
       "      <td>1.171920</td>\n",
       "      <td>741.0</td>\n",
       "      <td>2.123209</td>\n",
       "      <td>39.43</td>\n",
       "      <td>-121.32</td>\n",
       "    </tr>\n",
       "    <tr>\n",
       "      <th>20639</th>\n",
       "      <td>2.3886</td>\n",
       "      <td>16.0</td>\n",
       "      <td>5.254717</td>\n",
       "      <td>1.162264</td>\n",
       "      <td>1387.0</td>\n",
       "      <td>2.616981</td>\n",
       "      <td>39.37</td>\n",
       "      <td>-121.24</td>\n",
       "    </tr>\n",
       "    <tr>\n",
       "      <th>20640</th>\n",
       "      <td>2.3886</td>\n",
       "      <td>16.0</td>\n",
       "      <td>5.254717</td>\n",
       "      <td>1.162264</td>\n",
       "      <td>1387.0</td>\n",
       "      <td>2.616981</td>\n",
       "      <td>39.37</td>\n",
       "      <td>-121.24</td>\n",
       "    </tr>\n",
       "  </tbody>\n",
       "</table>\n",
       "<p>20641 rows × 8 columns</p>\n",
       "</div>"
      ],
      "text/plain": [
       "       MedInc  HouseAge  AveRooms  AveBedrms  Population  AveOccup  Latitude  \\\n",
       "0      8.3252      41.0  6.984127   1.023810       322.0  2.555556     37.88   \n",
       "1      8.3014      21.0  6.238137   0.971880      2401.0  2.109842     37.86   \n",
       "2      7.2574      52.0  8.288136   1.073446       496.0  2.802260     37.85   \n",
       "3      5.6431      52.0  5.817352   1.073059       558.0  2.547945     37.85   \n",
       "4      3.8462      52.0  6.281853   1.081081       565.0  2.181467     37.85   \n",
       "...       ...       ...       ...        ...         ...       ...       ...   \n",
       "20636  2.5568      18.0  6.114035   1.315789       356.0  3.122807     39.49   \n",
       "20637  1.7000      17.0  5.205543   1.120092      1007.0  2.325635     39.43   \n",
       "20638  1.8672      18.0  5.329513   1.171920       741.0  2.123209     39.43   \n",
       "20639  2.3886      16.0  5.254717   1.162264      1387.0  2.616981     39.37   \n",
       "20640  2.3886      16.0  5.254717   1.162264      1387.0  2.616981     39.37   \n",
       "\n",
       "       Longitude  \n",
       "0        -122.23  \n",
       "1        -122.22  \n",
       "2        -122.24  \n",
       "3        -122.25  \n",
       "4        -122.25  \n",
       "...          ...  \n",
       "20636    -121.21  \n",
       "20637    -121.22  \n",
       "20638    -121.32  \n",
       "20639    -121.24  \n",
       "20640    -121.24  \n",
       "\n",
       "[20641 rows x 8 columns]"
      ]
     },
     "execution_count": 99,
     "metadata": {},
     "output_type": "execute_result"
    }
   ],
   "source": [
    "# Отбрасывание признаков - ! Применяется, только если признак не несет никакой пользы !\n",
    "cols_to_drop = ['MedHouseVal']\n",
    "df_less_hos_beds_raion = df.drop(cols_to_drop, axis=1)\n",
    "df_less_hos_beds_raion"
   ]
  },
  {
   "cell_type": "code",
   "execution_count": null,
   "metadata": {},
   "outputs": [],
   "source": [
    "# Внесение недостающих значений\n",
    "# 1. Среднее значение: Используйте, если данные распределены нормально или близки к нормальному распределению.\n",
    "df['MedInc'].fillna(df['MedInc'].mean(), inplace=True)\n",
    "    \n",
    "# 2. Медианное значение: Более устойчиво к выбросам, чем среднее значение.\n",
    "df['HouseAge'].fillna(df['HouseAge'].median(), inplace=True)\n",
    "    \n",
    "# 3. Мода: Используйте для категориальных переменных или для числовых данных,  распределенных  не  нормально.\n",
    "df['AveBedrms'].fillna(df['AveBedrms'].mode()[0], inplace=True)\n",
    "    \n",
    "# 4. Вперед-заполнение: Используйте для временных рядов или данных, где  последовательные  значения  зависят  друг  от  друга.\n",
    "df['Population'].fillna(method='ffill', inplace=True)\n",
    "    \n",
    "# 5. Обратно-заполнение: Аналогично forward fill (4),  но  используется  для  заполнения  пропущенных  значений  в  конце  датафрейма.\n",
    "df['AveOccup'].fillna(method='bfill', inplace=True)\n",
    "\n",
    "# 6. Замена недостающих значений на свои\n",
    "    # категориальные признаки\n",
    "df['sub_area'] = df['sub_area'].fillna('_MISSING_')\n",
    "\n",
    "    # численные признаки\n",
    "df['Latitude'] = df['Latitude'].fillna(-999)\n",
    "\n",
    "# 7. Методы машинного обучения: обучаем модель (например,  линейную  регрессию,  k-ближайших  соседей)  на  доступных  данных  \n",
    "# и  используем  ее  для  предсказания  пропущенных  значений. Этот  метод  может  быть  более  точен,  чем  простые  методы  заполнения,  \n",
    "# но  требует  более  сложного  кода  и  больше  времени  на  обучение."
   ]
  },
  {
   "cell_type": "markdown",
   "metadata": {},
   "source": [
    "#### Выбросы"
   ]
  },
  {
   "cell_type": "code",
   "execution_count": 100,
   "metadata": {},
   "outputs": [
    {
     "data": {
      "text/plain": [
       "<Axes: >"
      ]
     },
     "execution_count": 100,
     "metadata": {},
     "output_type": "execute_result"
    },
    {
     "data": {
      "image/png": "[encoded data removed]",
      "text/plain": [
       "<Figure size 640x480 with 1 Axes>"
      ]
     },
     "metadata": {},
     "output_type": "display_data"
    }
   ],
   "source": [
    "# Гистограмма/коробчатая диаграмма\n",
    "df['Population'].hist(bins=100)"
   ]
  },
  {
   "cell_type": "code",
   "execution_count": 101,
   "metadata": {},
   "outputs": [
    {
     "data": {
      "text/plain": [
       "<Axes: >"
      ]
     },
     "execution_count": 101,
     "metadata": {},
     "output_type": "execute_result"
    },
    {
     "data": {
      "image/png": "[encoded data removed]",
      "text/plain": [
       "<Figure size 640x480 with 1 Axes>"
      ]
     },
     "metadata": {},
     "output_type": "display_data"
    }
   ],
   "source": [
    "df.boxplot(column=['Population'])"
   ]
  },
  {
   "cell_type": "code",
   "execution_count": 102,
   "metadata": {},
   "outputs": [
    {
     "data": {
      "text/plain": [
       "<Axes: >"
      ]
     },
     "execution_count": 102,
     "metadata": {},
     "output_type": "execute_result"
    },
    {
     "data": {
      "image/png": "[encoded data removed]",
      "text/plain": [
       "<Figure size 640x480 with 1 Axes>"
      ]
     },
     "metadata": {},
     "output_type": "display_data"
    }
   ],
   "source": [
    "df.boxplot(column=['MedInc', 'HouseAge', 'AveRooms', 'AveBedrms', 'Population', 'AveOccup', 'Latitude', 'Longitude', 'MedHouseVal'])"
   ]
  },
  {
   "cell_type": "code",
   "execution_count": 103,
   "metadata": {},
   "outputs": [
    {
     "data": {
      "text/html": [
       "<div>\n",
       "<style scoped>\n",
       "    .dataframe tbody tr th:only-of-type {\n",
       "        vertical-align: middle;\n",
       "    }\n",
       "\n",
       "    .dataframe tbody tr th {\n",
       "        vertical-align: top;\n",
       "    }\n",
       "\n",
       "    .dataframe thead th {\n",
       "        text-align: right;\n",
       "    }\n",
       "</style>\n",
       "<table border=\"1\" class=\"dataframe\">\n",
       "  <thead>\n",
       "    <tr style=\"text-align: right;\">\n",
       "      <th></th>\n",
       "      <th>MedInc</th>\n",
       "      <th>HouseAge</th>\n",
       "      <th>AveRooms</th>\n",
       "      <th>AveBedrms</th>\n",
       "      <th>Population</th>\n",
       "      <th>AveOccup</th>\n",
       "      <th>Latitude</th>\n",
       "      <th>Longitude</th>\n",
       "      <th>MedHouseVal</th>\n",
       "    </tr>\n",
       "  </thead>\n",
       "  <tbody>\n",
       "    <tr>\n",
       "      <th>count</th>\n",
       "      <td>20641.000000</td>\n",
       "      <td>20640.000000</td>\n",
       "      <td>20639.000000</td>\n",
       "      <td>20637.000000</td>\n",
       "      <td>20639.000000</td>\n",
       "      <td>20639.000000</td>\n",
       "      <td>20639.000000</td>\n",
       "      <td>20641.000000</td>\n",
       "      <td>20640.000000</td>\n",
       "    </tr>\n",
       "    <tr>\n",
       "      <th>mean</th>\n",
       "      <td>3.870599</td>\n",
       "      <td>28.637742</td>\n",
       "      <td>5.429181</td>\n",
       "      <td>1.096679</td>\n",
       "      <td>1425.544891</td>\n",
       "      <td>3.072484</td>\n",
       "      <td>35.624073</td>\n",
       "      <td>-119.563770</td>\n",
       "      <td>2.068509</td>\n",
       "    </tr>\n",
       "    <tr>\n",
       "      <th>std</th>\n",
       "      <td>1.899804</td>\n",
       "      <td>12.584815</td>\n",
       "      <td>2.474157</td>\n",
       "      <td>0.473945</td>\n",
       "      <td>1132.461771</td>\n",
       "      <td>10.389111</td>\n",
       "      <td>2.402163</td>\n",
       "      <td>2.174561</td>\n",
       "      <td>1.153985</td>\n",
       "    </tr>\n",
       "    <tr>\n",
       "      <th>min</th>\n",
       "      <td>0.499900</td>\n",
       "      <td>1.000000</td>\n",
       "      <td>0.846154</td>\n",
       "      <td>0.333333</td>\n",
       "      <td>3.000000</td>\n",
       "      <td>0.692308</td>\n",
       "      <td>-122.260000</td>\n",
       "      <td>-124.350000</td>\n",
       "      <td>0.149990</td>\n",
       "    </tr>\n",
       "    <tr>\n",
       "      <th>25%</th>\n",
       "      <td>2.562500</td>\n",
       "      <td>18.000000</td>\n",
       "      <td>4.440951</td>\n",
       "      <td>1.006061</td>\n",
       "      <td>787.000000</td>\n",
       "      <td>2.430150</td>\n",
       "      <td>33.930000</td>\n",
       "      <td>-121.800000</td>\n",
       "      <td>1.196000</td>\n",
       "    </tr>\n",
       "    <tr>\n",
       "      <th>50%</th>\n",
       "      <td>3.534700</td>\n",
       "      <td>29.000000</td>\n",
       "      <td>5.229213</td>\n",
       "      <td>1.048780</td>\n",
       "      <td>1166.000000</td>\n",
       "      <td>2.818408</td>\n",
       "      <td>34.260000</td>\n",
       "      <td>-118.490000</td>\n",
       "      <td>1.797000</td>\n",
       "    </tr>\n",
       "    <tr>\n",
       "      <th>75%</th>\n",
       "      <td>4.743100</td>\n",
       "      <td>37.000000</td>\n",
       "      <td>6.052381</td>\n",
       "      <td>1.099526</td>\n",
       "      <td>1725.000000</td>\n",
       "      <td>3.282276</td>\n",
       "      <td>37.710000</td>\n",
       "      <td>-118.010000</td>\n",
       "      <td>2.647250</td>\n",
       "    </tr>\n",
       "    <tr>\n",
       "      <th>max</th>\n",
       "      <td>15.000100</td>\n",
       "      <td>52.000000</td>\n",
       "      <td>141.909091</td>\n",
       "      <td>34.066667</td>\n",
       "      <td>35682.000000</td>\n",
       "      <td>1243.333333</td>\n",
       "      <td>41.950000</td>\n",
       "      <td>1.913000</td>\n",
       "      <td>5.000010</td>\n",
       "    </tr>\n",
       "  </tbody>\n",
       "</table>\n",
       "</div>"
      ],
      "text/plain": [
       "             MedInc      HouseAge      AveRooms     AveBedrms    Population  \\\n",
       "count  20641.000000  20640.000000  20639.000000  20637.000000  20639.000000   \n",
       "mean       3.870599     28.637742      5.429181      1.096679   1425.544891   \n",
       "std        1.899804     12.584815      2.474157      0.473945   1132.461771   \n",
       "min        0.499900      1.000000      0.846154      0.333333      3.000000   \n",
       "25%        2.562500     18.000000      4.440951      1.006061    787.000000   \n",
       "50%        3.534700     29.000000      5.229213      1.048780   1166.000000   \n",
       "75%        4.743100     37.000000      6.052381      1.099526   1725.000000   \n",
       "max       15.000100     52.000000    141.909091     34.066667  35682.000000   \n",
       "\n",
       "           AveOccup      Latitude     Longitude   MedHouseVal  \n",
       "count  20639.000000  20639.000000  20641.000000  20640.000000  \n",
       "mean       3.072484     35.624073   -119.563770      2.068509  \n",
       "std       10.389111      2.402163      2.174561      1.153985  \n",
       "min        0.692308   -122.260000   -124.350000      0.149990  \n",
       "25%        2.430150     33.930000   -121.800000      1.196000  \n",
       "50%        2.818408     34.260000   -118.490000      1.797000  \n",
       "75%        3.282276     37.710000   -118.010000      2.647250  \n",
       "max     1243.333333     41.950000      1.913000      5.000010  "
      ]
     },
     "execution_count": 103,
     "metadata": {},
     "output_type": "execute_result"
    }
   ],
   "source": [
    "df.describe()"
   ]
  },
  {
   "cell_type": "markdown",
   "metadata": {},
   "source": [
    "Для обнаружения выбросов можно использовать другие методы, например, построение точечной диаграммы, z-оценку или кластеризацию."
   ]
  },
  {
   "cell_type": "code",
   "execution_count": 104,
   "metadata": {},
   "outputs": [],
   "source": [
    "# Обнаружение неинформативных признаков\n",
    "# Если признак имеет слишком много строк с одинаковыми значениями, он не несет полезной информации для проекта\n",
    "num_rows = len(df.index)\n",
    "low_information_cols = [] #\n",
    "\n",
    "for col in df.columns:\n",
    "    cnts = df[col].value_counts(dropna=False)\n",
    "    top_pct = (cnts/num_rows).iloc[0]\n",
    "    \n",
    "    if top_pct > 0.95:\n",
    "        low_information_cols.append(col)\n",
    "        print('{0}: {1:.5f}%'.format(col, top_pct*100))\n",
    "        print(cnts)\n",
    "        print()"
   ]
  },
  {
   "cell_type": "markdown",
   "metadata": {},
   "source": [
    "Нерелевантные признаки\n",
    "\n",
    "Нерелевантные признаки обнаруживаются ручным отбором и оценкой значимости. Например, на жилье в Калифорнии не влияет количество людей в Токио"
   ]
  },
  {
   "cell_type": "code",
   "execution_count": 109,
   "metadata": {},
   "outputs": [
    {
     "name": "stdout",
     "output_type": "stream",
     "text": [
      "(20641, 9)\n",
      "(20640, 9)\n"
     ]
    }
   ],
   "source": [
    "# Дубликаты записей\n",
    "# отбрасываем неуникальные строки\n",
    "df_dedupped = df.drop_duplicates()\n",
    "\n",
    "# сравниваем формы старого и нового наборов\n",
    "print(df.shape)\n",
    "print(df_dedupped.shape)\n",
    "\n",
    "# Другой распространенный способ вычисления дубликатов: по набору ключевых признаков. \n",
    "# Например, неуникальными можно считать записи с одной и той же долготой, широтой и средним количеством комнат и спален."
   ]
  },
  {
   "cell_type": "code",
   "execution_count": null,
   "metadata": {},
   "outputs": [],
   "source": []
  },
  {
   "cell_type": "code",
   "execution_count": null,
   "metadata": {},
   "outputs": [],
   "source": []
  },
  {
   "cell_type": "markdown",
   "metadata": {},
   "source": [
    "### Список литературы\n",
    "\n",
    "- Взгляд машинного обучения на типы данных: https://skine.ru/articles/538818/\n",
    "- Предварительная обработка данных для машинного обучения / Хабр: https://habr.com/ru/articles/800973/"
   ]
  },
  {
   "cell_type": "markdown",
   "metadata": {},
   "source": []
  }
 ],
 "metadata": {
  "kernelspec": {
   "display_name": "Python 3",
   "language": "python",
   "name": "python3"
  },
  "language_info": {
   "codemirror_mode": {
    "name": "ipython",
    "version": 3
   },
   "file_extension": ".py",
   "mimetype": "text/x-python",
   "name": "python",
   "nbconvert_exporter": "python",
   "pygments_lexer": "ipython3",
   "version": "3.12.6"
  }
 },
 "nbformat": 4,
 "nbformat_minor": 2
}
