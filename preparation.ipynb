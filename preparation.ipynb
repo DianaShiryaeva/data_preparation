{
 "cells": [
  {
   "cell_type": "markdown",
   "metadata": {},
   "source": [
    "# Управление данными и предобработка. Подготовка данных для ML.\n",
    "\n",
    "Автор: Ширяева Диана, 6013"
   ]
  },
  {
   "cell_type": "markdown",
   "metadata": {},
   "source": [
    "## Что такое управление данными и предобработка. Почему это важно?\n",
    "\n",
    "<img src=\"images\\img1.jpg\" alt=\"img1\" width=\"600\"/>\n",
    "\n",
    "<span style=\"color:#CC0099\">**Управление данными**</span> – это процесс сбора, хранения, обработки, анализа и использования данных.\n",
    "\n",
    "- **Сбор данных**: Определение источников, извлечение данных, обработка ошибок сбора данных, создание единого формата.\n",
    "- **Хранение данных**: Выбор подходящей системы хранения (базы данных, облачные хранилища), обеспечение безопасности данных.\n",
    "- **Предобработка данных**: Преобразование данных, агрегирование, фильтрация, создание новых признаков.\n",
    "- **Анализ данных**: Использование статистических методов и визуализации для получения insights (ценности).\n",
    "- **Использование данных**: Применение данных для принятия решений, разработки моделей машинного обучения и т.д.\n",
    "\n",
    "<span style=\"color:#CC0099\">**Предобработка данных**</span> – это этап, который подготавливает данные к обучению модели машинного обучения. Он включает в себя:\n",
    "- Очистку данных: Удаление шума, выбросов, пропущенных значений, дубликатов.\n",
    "- Преобразование данных: Масштабирование, кодирование категориальных признаков, приведение данных к нужному формату.\n",
    "- Инженерия признаков: Создание новых признаков из существующих, отбор наиболее релевантных признаков.\n",
    "\n",
    "<span style=\"color:#CC0099\">**Почему это важно?**</span>\n",
    "\n",
    "Качество данных влияет на:\n",
    "1. Качество модели\n",
    "2. Эффективность модели\n",
    "3. Обобщающую способность модели\n",
    "\n",
    "Также предобработка данных дает ещё один важный бонус - это <span style=\"color:#FFCC00\">**понимание данных**</span>"
   ]
  },
  {
   "cell_type": "markdown",
   "metadata": {},
   "source": [
    "## Место предобработки данных в общем процеесе\n",
    "\n",
    "<pre>\n",
    "┌───────────────────┐\n",
    "│ Сбор данных       │\n",
    "└───────────────────┘\n",
    "          ↓\n",
    "┌───────────────────┐\n",
    "│ Предобработка     │\n",
    "└───────────────────┘\n",
    "          ↓\n",
    "┌───────────────────┐\n",
    "│ Построение модели │\n",
    "└───────────────────┘\n",
    "          ↓\n",
    "┌───────────────────┐\n",
    "│ Обучение медели   │\n",
    "└───────────────────┘\n",
    "          ↓\n",
    "┌───────────────────┐\n",
    "│ Предсказание      │\n",
    "└───────────────────┘\n",
    "          ↓\n",
    "┌───────────────────┐\n",
    "│ Анализ качества   │\n",
    "└───────────────────┘\n",
    "          ↓\n",
    "┌───────────────────┐\n",
    "│ Интерпретация     │\n",
    "└───────────────────┘\n",
    "</pre>"
   ]
  },
  {
   "cell_type": "markdown",
   "metadata": {},
   "source": [
    "## С какими видами данных работают ML и DL модели\n",
    "\n",
    "<img src=\"images\\img2.jpg\" alt=\"img2\" width=\"600\"/>\n",
    "\n",
    "Желания человека: \n",
    "- Числовые\n",
    "- Текстовые\n",
    "- Изображения\n",
    "- Аудио\n",
    "- Временные ряды\n",
    "\n",
    "Но сами модели работают с <span style=\"color:#FFCC00\">количественными типами данных</span>, поэтому все качественные (категориальные) типы данных необходимо привести к формату, который понятен компьютеру."
   ]
  },
  {
   "cell_type": "markdown",
   "metadata": {},
   "source": [
    "## Стадии предобработки данных и часто используемые инструменты\n",
    "\n",
    "1. Очистка данных:\n",
    "    - Обработка пропущенных значений: Удаление, замена (средним, медианой, моделью), заполнение нулями.\n",
    "    - Удаление дубликатов: Определение и удаление дублирующихся записей.\n",
    "    - Обработка выбросов: Идентификация и коррекция аномальных значений.\n",
    "2. Преобразование данных:\n",
    "    - Масштабирование: Нормализация данных (приведение к диапазону 0-1) или стандартизация (приведение к нулевому среднему и единичному стандартному отклонению).\n",
    "    - Кодирование категориальных признаков: Преобразование категориальных данных в числовые (например, с помощью one-hot encoding, label encoding).\n",
    "    - Разбиение данных: Разделение на обучающую, проверочную и тестовую выборки.\n",
    "3. Инженерия признаков:\n",
    "    - Создание новых признаков: Извлечение информации из существующих признаков\n",
    "    - Выбор признаков: Отбор наиболее релевантных признаков для модели.\n",
    "    - Трансформация признаков: Приведение признаков к более удобному формату для модели (например, логарифмирование, применение полиномов).\n",
    "4. Проверка качества данных:\n",
    "    - Визуализация данных: Построение графиков для анализа распределения данных, наличия выбросов, зависимостей.\n",
    "    - Статистический анализ: Вычисление основных статистических характеристик (среднее, дисперсия, корреляция), проверка гипотез."
   ]
  },
  {
   "cell_type": "markdown",
   "metadata": {},
   "source": []
  },
  {
   "cell_type": "code",
   "execution_count": 2,
   "metadata": {},
   "outputs": [],
   "source": [
    "import pandas as pd"
   ]
  },
  {
   "cell_type": "markdown",
   "metadata": {},
   "source": [
    "### Обработка числовых данных\n",
    "\n",
    "<img src=\"images\\img3.jpg\" alt=\"img3\" width=\"600\"/>"
   ]
  },
  {
   "cell_type": "markdown",
   "metadata": {},
   "source": [
    "[number_data](preparation_number_data.ipynb)"
   ]
  },
  {
   "cell_type": "markdown",
   "metadata": {},
   "source": [
    "Датасет fetch_california_housing содержит информацию о жилье в Калифорнии\n",
    "\n",
    "1. MedInc (Median Income) - Медианный доход населения в районе (в десятитысячах долларов). \n",
    "2. HouseAge (House Age) - Средний возраст домов в районе.\n",
    "3. AveRooms (Average Number of Rooms) - Среднее количество комнат в доме в районе.\n",
    "4. AveBedrms (Average Number of Bedrooms) - Среднее количество спален в доме в районе.\n",
    "5. Population (Population) - Общая численность населения в районе.\n",
    "6. AveOccup (Average Occupancy) - Средняя плотность населения в районе (количество людей на один дом).\n",
    "7. Latitude (Latitude) - Широта района.\n",
    "8. Longitude (Longitude) - Долгота района.\n",
    "9. MedHouseVal (Median House Value) - Медианная стоимость жилья в районе (в десятитысячах долларов). (является target)\n",
    "\n",
    "<span style=\"color:#FFCC00\">Инструменты</span>\n",
    "\n",
    "- Scikit-learn: Библиотека машинного обучения с модулем для предобработки, включая стандартизацию, нормализацию, заполнение пропущенных значений, преобразование категориальных признаков и др.\n",
    "- Pandas: Библиотека для работы с данными, предлагающая множество функций для предобработки, включая очистку, фильтрацию, агрегирование, группировку и изменение типов данных.\n",
    "- NumPy: Библиотека для работы с массивами, обеспечивающая операции по манипулированию данными, включая операции со столбцами, транспонирование, сортировку и др.\n",
    "- Feature-engine: Библиотека, специализирующаяся на инженерии признаков, включающая методы обработки пропущенных значений, преобразования признаков, удаления выбросов и др.\n",
    "- DataWig: Библиотека для автоматического создания признаков, включающая методы для генерации синтетических данных, поиска и исправления ошибок.\n",
    "- И другие."
   ]
  },
  {
   "cell_type": "code",
   "execution_count": 6,
   "metadata": {},
   "outputs": [
    {
     "data": {
      "text/html": [
       "<div>\n",
       "<style scoped>\n",
       "    .dataframe tbody tr th:only-of-type {\n",
       "        vertical-align: middle;\n",
       "    }\n",
       "\n",
       "    .dataframe tbody tr th {\n",
       "        vertical-align: top;\n",
       "    }\n",
       "\n",
       "    .dataframe thead th {\n",
       "        text-align: right;\n",
       "    }\n",
       "</style>\n",
       "<table border=\"1\" class=\"dataframe\">\n",
       "  <thead>\n",
       "    <tr style=\"text-align: right;\">\n",
       "      <th></th>\n",
       "      <th>MedInc</th>\n",
       "      <th>HouseAge</th>\n",
       "      <th>AveRooms</th>\n",
       "      <th>AveBedrms</th>\n",
       "      <th>Population</th>\n",
       "      <th>AveOccup</th>\n",
       "      <th>Latitude</th>\n",
       "      <th>Longitude</th>\n",
       "      <th>MedHouseVal</th>\n",
       "    </tr>\n",
       "  </thead>\n",
       "  <tbody>\n",
       "    <tr>\n",
       "      <th>0</th>\n",
       "      <td>8.3252</td>\n",
       "      <td>41.0</td>\n",
       "      <td>6.984127</td>\n",
       "      <td>1.023810</td>\n",
       "      <td>322.0</td>\n",
       "      <td>2.555556</td>\n",
       "      <td>NaN</td>\n",
       "      <td>-122.23</td>\n",
       "      <td>4.526</td>\n",
       "    </tr>\n",
       "    <tr>\n",
       "      <th>1</th>\n",
       "      <td>8.3014</td>\n",
       "      <td>21.0</td>\n",
       "      <td>6.238137</td>\n",
       "      <td>0.971880</td>\n",
       "      <td>2401.0</td>\n",
       "      <td>2.109842</td>\n",
       "      <td>37.86</td>\n",
       "      <td>-122.22</td>\n",
       "      <td>3.585</td>\n",
       "    </tr>\n",
       "    <tr>\n",
       "      <th>2</th>\n",
       "      <td>7.2574</td>\n",
       "      <td>52.0</td>\n",
       "      <td>8.288136</td>\n",
       "      <td>1.073446</td>\n",
       "      <td>496.0</td>\n",
       "      <td>2.802260</td>\n",
       "      <td>37.85</td>\n",
       "      <td>-122.24</td>\n",
       "      <td>3.521</td>\n",
       "    </tr>\n",
       "    <tr>\n",
       "      <th>3</th>\n",
       "      <td>5.6431</td>\n",
       "      <td>52.0</td>\n",
       "      <td>5.817352</td>\n",
       "      <td>1.073059</td>\n",
       "      <td>558.0</td>\n",
       "      <td>2.547945</td>\n",
       "      <td>37.85</td>\n",
       "      <td>-122.25</td>\n",
       "      <td>3.413</td>\n",
       "    </tr>\n",
       "    <tr>\n",
       "      <th>4</th>\n",
       "      <td>3.8462</td>\n",
       "      <td>52.0</td>\n",
       "      <td>6.281853</td>\n",
       "      <td>1.081081</td>\n",
       "      <td>565.0</td>\n",
       "      <td>2.181467</td>\n",
       "      <td>37.85</td>\n",
       "      <td>-122.25</td>\n",
       "      <td>3.422</td>\n",
       "    </tr>\n",
       "  </tbody>\n",
       "</table>\n",
       "</div>"
      ],
      "text/plain": [
       "   MedInc  HouseAge  AveRooms  AveBedrms  Population  AveOccup  Latitude  \\\n",
       "0  8.3252      41.0  6.984127   1.023810       322.0  2.555556       NaN   \n",
       "1  8.3014      21.0  6.238137   0.971880      2401.0  2.109842     37.86   \n",
       "2  7.2574      52.0  8.288136   1.073446       496.0  2.802260     37.85   \n",
       "3  5.6431      52.0  5.817352   1.073059       558.0  2.547945     37.85   \n",
       "4  3.8462      52.0  6.281853   1.081081       565.0  2.181467     37.85   \n",
       "\n",
       "   Longitude  MedHouseVal  \n",
       "0    -122.23        4.526  \n",
       "1    -122.22        3.585  \n",
       "2    -122.24        3.521  \n",
       "3    -122.25        3.413  \n",
       "4    -122.25        3.422  "
      ]
     },
     "execution_count": 6,
     "metadata": {},
     "output_type": "execute_result"
    }
   ],
   "source": [
    "df_house = pd.read_csv(\"fetch_california_housing.csv\")\n",
    "del df_house[\"Unnamed: 0\"]\n",
    "df_house.head()"
   ]
  },
  {
   "cell_type": "markdown",
   "metadata": {},
   "source": [
    "### Обработка текстовых данных\n",
    "\n",
    "<img src=\"images\\img4.jpg\" alt=\"img4\" width=\"600\"/>"
   ]
  },
  {
   "cell_type": "markdown",
   "metadata": {},
   "source": [
    "##### Текст, который мы будем обрабатывать\n",
    "\n",
    "'Жила в старом лесу белка. У белки весной появилась дочка белочка.\n",
    "\n",
    "Один раз белка с белочкой собирали грибы на зиму. Вдруг на соседней ёлке появилась куница. Она приготовилась схватить белочку. Мама – белка прыгнула навстречу кунице и крикнула дочке: «Беги!»\n",
    "\n",
    "Белочка бросилась наутёк. Наконец она остановилась. Посмотрела по сторонам, а места незнакомые! Мамы – белки нет. Что делать?\n",
    "\n",
    "Увидела белочка дупло на сосне, спряталась и заснула. А утром мама дочку нашла.'\n",
    "\n",
    "[nlp_data](preparation_nlp.ipynb)"
   ]
  },
  {
   "cell_type": "markdown",
   "metadata": {},
   "source": [
    "<span style=\"color:#FFCC00\">Инструменты</span>\n",
    "\n",
    "- NLTK: Библиотека для обработки естественного языка, предлагающая инструменты для токенизации, нормализации текста, удаления стоп-слов, лемматизации, стемминга, создания n-грамм и др.\n",
    "- Spacy: Библиотека для обработки естественного языка, известная своей скоростью и точностью, предоставляющая инструменты для токенизации, анализа частей речи, распознавания именованных сущностей, лемматизации и др.\n",
    "- TextBlob: Библиотека для обработки естественного языка, предлагающая простые в использовании методы для анализа настроений, классификации текста, перевода и др.\n",
    "- Gensim: Библиотека для тематического моделирования, предоставляющая инструменты для создания распределенных представлений слов (Word2Vec), тематического моделирования LDA и др.\n",
    "- Snowball: Библиотека для стемминга и лемматизации, поддерживающая несколько языков.\n",
    "- И другие."
   ]
  },
  {
   "cell_type": "markdown",
   "metadata": {},
   "source": [
    "### Обработка изображений (видео)\n",
    "\n",
    "<img src=\"images\\img5.jpg\" alt=\"img5\" width=\"600\"/>\n",
    "\n",
    "<span style=\"color:#FFCC00\">Инструменты</span>\n",
    "\n",
    "- OpenCV: Библиотека для обработки изображений, предоставляющая инструменты для преобразования, улучшения, сегментации изображений, распознавания объектов, детектирования лиц и др.\n",
    "- Pillow: Библиотека для обработки изображений, предоставляющая инструменты для открытия, сохранения, редактирования и преобразования различных форматов изображений.\n",
    "- Scikit-image: Библиотека для обработки изображений, основанная на Scikit-learn, предоставляющая инструменты для сегментации, фильтрации, морфологической обработки изображений и др.\n",
    "- TensorFlow: Библиотека для машинного обучения, предоставляющая инструменты для предобработки изображений, включая изменение размера, нормализацию, преобразование цветов и др.\n",
    "- PyTorch: Библиотека для машинного обучения, также предоставляющая инструменты для предобработки изображений, аналогичные TensorFlow.\n",
    "\n",
    "Видео:\n",
    "\n",
    "- FFmpeg: Библиотека для обработки мультимедиа, предоставляющая инструменты для преобразования, сжатия, кодирования и декодирования видеофайлов.\n",
    "- MoviePy: Библиотека для редактирования видео, предоставляющая инструменты для работы с клипами, переходами, эффектами, титрами и др."
   ]
  },
  {
   "cell_type": "markdown",
   "metadata": {},
   "source": [
    "[image_data](preparation_image.ipynb)"
   ]
  },
  {
   "cell_type": "markdown",
   "metadata": {},
   "source": [
    "### Обработка аудио\n",
    "\n",
    "<img src=\"images\\img6.jpg\" alt=\"img6\" width=\"600\"/>\n",
    "\n",
    "<span style=\"color:#FFCC00\">Инструменты</span>\n",
    "\n",
    "- Librosa: Библиотека для анализа и манипулирования аудиоданными, предоставляющая инструменты для извлечения признаков, таких как MFCC, спектрограммы, хромограммы, и др.\n",
    "- PyAudio: Библиотека для работы с аудио в Python, предоставляющая инструменты для записи и воспроизведения звука, а также взаимодействия с микрофонами и динамиками.\n",
    "- SoundFile: Библиотека для чтения и записи аудиофайлов различных форматов.\n",
    "- TensorFlow: Библиотека для машинного обучения, предоставляющая инструменты для предобработки аудио, вкл\n",
    "ючая создание спектограмм, mel-спектрограмм и др.\n",
    "- PyTorch: Библиотека для машинного обучения, также предоставляющая инструменты для предобработки аудио, аналогичные TensorFlow.\n",
    "- И другие\n",
    "\n",
    "[audio_data](preparation_audio.ipynb)"
   ]
  },
  {
   "cell_type": "markdown",
   "metadata": {},
   "source": [
    "### Обработка временных рядов\n",
    "\n",
    "<img src=\"images\\img7.jpg\" alt=\"img7\" width=\"600\"/>\n",
    "\n",
    "<span style=\"color:#FFCC00\">Инструменты</span>\n",
    "\n",
    "- statsmodels: Библиотека для статистического моделирования, предоставляющая инструменты для анализа временных рядов, включая сезонное разложение, авторегрессионные модели, модели скользящего среднего и др.\n",
    "- Prophet: Библиотека для прогнозирования временных рядов, предлагающая метод моделирования пророческих временных рядов.\n",
    "- Scikit-learn: Библиотека машинного обучения, предоставляющая инструменты для предобработки временных рядов, включая стандартизацию, нормализацию, заполнение пропущенных значений, разделение на обучающую и тестовую выборки и др.\n",
    "- Pandas: Библиотека для работы с данными, также предоставляющая инструменты для работы с временными рядами, включая группировку, фильтрацию, агрегирование и др.\n",
    "- TensorFlow: Библиотека для машинного обучения, предоставляющая инструменты для построения моделей глубокого обучения для прогнозирования временных рядов.\n",
    "- PyTorch: Библиотека для машинного обучения, также предоставляющая инструменты для построения моделей глубокого обучения для прогнозирования временных рядов\n",
    "- И другие\n",
    "\n",
    "[timeseries_data](preparation_timeseries.ipynb)"
   ]
  },
  {
   "cell_type": "code",
   "execution_count": 4,
   "metadata": {},
   "outputs": [
    {
     "data": {
      "text/html": [
       "<div>\n",
       "<style scoped>\n",
       "    .dataframe tbody tr th:only-of-type {\n",
       "        vertical-align: middle;\n",
       "    }\n",
       "\n",
       "    .dataframe tbody tr th {\n",
       "        vertical-align: top;\n",
       "    }\n",
       "\n",
       "    .dataframe thead th {\n",
       "        text-align: right;\n",
       "    }\n",
       "</style>\n",
       "<table border=\"1\" class=\"dataframe\">\n",
       "  <thead>\n",
       "    <tr style=\"text-align: right;\">\n",
       "      <th></th>\n",
       "      <th>Datetime</th>\n",
       "      <th>Open</th>\n",
       "      <th>High</th>\n",
       "      <th>Low</th>\n",
       "      <th>Close</th>\n",
       "      <th>Volume</th>\n",
       "    </tr>\n",
       "  </thead>\n",
       "  <tbody>\n",
       "    <tr>\n",
       "      <th>0</th>\n",
       "      <td>7/5/2024 0:00</td>\n",
       "      <td>2356.845</td>\n",
       "      <td>2357.555</td>\n",
       "      <td>2356.120</td>\n",
       "      <td>2357.125</td>\n",
       "      <td>858</td>\n",
       "    </tr>\n",
       "    <tr>\n",
       "      <th>1</th>\n",
       "      <td>7/5/2024 0:15</td>\n",
       "      <td>2357.215</td>\n",
       "      <td>2357.630</td>\n",
       "      <td>2356.720</td>\n",
       "      <td>2357.080</td>\n",
       "      <td>887</td>\n",
       "    </tr>\n",
       "    <tr>\n",
       "      <th>2</th>\n",
       "      <td>7/5/2024 0:30</td>\n",
       "      <td>2357.050</td>\n",
       "      <td>2358.930</td>\n",
       "      <td>2356.935</td>\n",
       "      <td>2358.380</td>\n",
       "      <td>1256</td>\n",
       "    </tr>\n",
       "    <tr>\n",
       "      <th>3</th>\n",
       "      <td>7/5/2024 0:45</td>\n",
       "      <td>2358.375</td>\n",
       "      <td>2359.125</td>\n",
       "      <td>2358.060</td>\n",
       "      <td>2358.935</td>\n",
       "      <td>1578</td>\n",
       "    </tr>\n",
       "    <tr>\n",
       "      <th>4</th>\n",
       "      <td>7/5/2024 1:00</td>\n",
       "      <td>2358.930</td>\n",
       "      <td>2360.400</td>\n",
       "      <td>2358.245</td>\n",
       "      <td>2359.685</td>\n",
       "      <td>2105</td>\n",
       "    </tr>\n",
       "  </tbody>\n",
       "</table>\n",
       "</div>"
      ],
      "text/plain": [
       "        Datetime      Open      High       Low     Close  Volume\n",
       "0  7/5/2024 0:00  2356.845  2357.555  2356.120  2357.125     858\n",
       "1  7/5/2024 0:15  2357.215  2357.630  2356.720  2357.080     887\n",
       "2  7/5/2024 0:30  2357.050  2358.930  2356.935  2358.380    1256\n",
       "3  7/5/2024 0:45  2358.375  2359.125  2358.060  2358.935    1578\n",
       "4  7/5/2024 1:00  2358.930  2360.400  2358.245  2359.685    2105"
      ]
     },
     "execution_count": 4,
     "metadata": {},
     "output_type": "execute_result"
    }
   ],
   "source": [
    "df = pd.read_csv(\"XAUUSD_15M.csv\", delimiter=',')\n",
    "df.head()"
   ]
  },
  {
   "cell_type": "markdown",
   "metadata": {},
   "source": [
    "#### Нормализация и масштабирование данных\n",
    "\n",
    "<span style=\"color:#CC0099\">Масштабирование</span> — это изменение диапазона значений признака. Например, можно масштабировать признаки таким образом, чтобы они находились в диапазоне от 0 до 1 или от -1 до 1. Это помогает улучшить стабильность модели и облегчает сравнение признаков с различными масштабами.\n",
    "\n",
    "<span style=\"color:#CC0099\">Нормализация</span> — это метод преобразования числовых признаков, который позволяет установить нулевое среднее значение и единичное стандартное отклонение. Благодаря этому можно уменьшить влияние выбросов и улучшить стабильность модели.\n",
    "\n",
    "Для многих моделей машинного обучения важно, чтобы количественные данные имели одинаковый масштаб (scale). Это справедливо для алгоритмов, рассчитывающих расстояние (например, алгоритма k-ближайших соседей или метода k-средних), а также для моделей, оптимизирующих веса методом градиентного спуска и использующих регуляризацию (в частности, это линейная или логистическая регрессия).\n",
    "\n",
    "Кроме того, в некоторых случаях нам может понадобиться преобразовать данные так, чтобы привести их к распределению, более похожему на нормальное. "
   ]
  },
  {
   "cell_type": "code",
   "execution_count": 14,
   "metadata": {},
   "outputs": [
    {
     "data": {
      "image/png": "[encoded data removed]",
      "text/plain": [
       "<Figure size 1200x400 with 3 Axes>"
      ]
     },
     "metadata": {},
     "output_type": "display_data"
    }
   ],
   "source": [
    "import numpy as np\n",
    "import pandas as pd\n",
    "import matplotlib.pyplot as plt\n",
    "import seaborn as sns\n",
    "\n",
    "fig, ax = plt.subplots(nrows = 1, ncols = 3, figsize = (12,4))\n",
    " \n",
    "# на первом графике разместим изначальное распределение\n",
    "sns.histplot(data=df_house, x='MedInc', bins=15, ax=ax[0])\n",
    "ax[0].set_title('Изначальное распределение')\n",
    " \n",
    "# на втором - данные после стандартизации\n",
    "sns.histplot(x=(df_house[\"MedInc\"] - np.mean(df_house[\"MedInc\"])) / np.std(df_house[\"MedInc\"]),\n",
    "             bins=15, color='green', ax=ax[1])\n",
    "ax[1].set_title('Стандартизация')\n",
    " \n",
    "# функцию степенного преобразования power_transform()\n",
    "from sklearn.preprocessing import power_transform\n",
    " \n",
    "# на третьем графике - преобразование Бокса-Кокса\n",
    "# Преобразование Бокса-Кокса — это метод преобразования ненормально распределённого набора данных в более нормально распределённый\n",
    "sns.histplot(x=power_transform(df_house[[\"MedInc\"]], method='box-cox').flatten(),\n",
    "             bins=12, color='orange', ax=ax[2])\n",
    "ax[2].set(title='Степенное преобразование', xlabel='MedInc')\n",
    " \n",
    "plt.tight_layout()\n",
    "plt.show()"
   ]
  },
  {
   "cell_type": "markdown",
   "metadata": {},
   "source": [
    "- Стандартизация вручную: ((df_house - df_house.mean()) / df_house.std()).head(3)\n",
    "- Точно такой же результат можно получить через класс StandardScaler модуля preprocessing библиотеки sklearn. \n",
    "- MinMaxScaler приводит данные к заданному диапазону (по умолчанию к промежутку от 0 до 1)\n",
    "- MaxAbsScaler для стандартизации разреженных данных\n",
    "- В отличие от приведенных выше инструментов, RobustScaler более устойчив к выбросам в силу того, что усреднение происходит по разнице между третьим и первым квартилями, то есть робастными статистическими показателями.\n",
    "- Класс Normalizer, в отличие от предыдущих инструментов, по умолчанию приводит наблюдения к единичной норме (длине вектора, равной единице) или нормализует их.\n",
    "- Также существует ещё огромное количество алгоритмов для нормализации. При этом бывают ситуации, когда пишут сами, а не пользуются встроенными инструментами"
   ]
  },
  {
   "cell_type": "markdown",
   "metadata": {},
   "source": [
    "#### Разделение данных на части\n",
    "\n",
    "<span style=\"color:#CC0099\">Для данных, где не важна последовательность</span>\n",
    "```\n",
    "from sklearn.model_selection import train_test_split\n",
    "\n",
    "X_train, X_test, y_train, y_test = train_test_split(X, y, random_state = 42)\n",
    "```\n",
    "\n",
    "<span style=\"color:#CC0099\">Для временных рядов</span>\n",
    "\n",
    "```\n",
    "from sklearn.model_selection import TimeSeriesSplit\n",
    "\n",
    "tscv = TimeSeriesSplit(n_splits=3, test_size=2)\n",
    "\n",
    "for i, (train_index, test_index) in enumerate(tscv.split(X)):\n",
    "    print(f\"Fold {i}:\")\n",
    "    print(f\"  Train: index={train_index}\")\n",
    "    print(f\"  Test:  index={test_index}\")\n",
    "```\n",
    "\n",
    "Вывод: \n",
    "\n",
    "Fold 0:\n",
    "\n",
    "  Train: index=[0 1 2 3 4 5]\n",
    "  Test:  index=[6 7]\n",
    "\n",
    "Fold 1:\n",
    "\n",
    "  Train: index=[0 1 2 3 4 5 6 7]\n",
    "  Test:  index=[8 9]\n",
    "\n",
    "Fold 2:\n",
    "\n",
    "  Train: index=[0 1 2 3 4 5 6 7 8 9]\n",
    "  Test:  index=[10 11]"
   ]
  },
  {
   "cell_type": "markdown",
   "metadata": {},
   "source": [
    "### Выводы\n",
    "\n",
    "Выводов нет, просто надеюсь, что вы не сидите сейчас с таким лицом)\n",
    "\n",
    "<img src=\"images\\img8.jpg\" alt=\"img8\" width=\"600\"/>"
   ]
  },
  {
   "cell_type": "markdown",
   "metadata": {},
   "source": [
    "### Список литературы\n",
    "\n",
    "- Взгляд машинного обучения на типы данных: https://skine.ru/articles/538818/\n",
    "- Предварительная обработка данных для машинного обучения / Хабр: https://habr.com/ru/articles/800973/\n",
    "- Рассказ о белке: https://poskladam.ru/short_texts/texts/\n",
    "- Музыка - https://samplelib.com/ru/sample-wav.html"
   ]
  },
  {
   "cell_type": "markdown",
   "metadata": {},
   "source": []
  }
 ],
 "metadata": {
  "kernelspec": {
   "display_name": "Python 3",
   "language": "python",
   "name": "python3"
  },
  "language_info": {
   "codemirror_mode": {
    "name": "ipython",
    "version": 3
   },
   "file_extension": ".py",
   "mimetype": "text/x-python",
   "name": "python",
   "nbconvert_exporter": "python",
   "pygments_lexer": "ipython3",
   "version": "3.12.6"
  }
 },
 "nbformat": 4,
 "nbformat_minor": 2
}
